{
 "cells": [
  {
   "cell_type": "code",
   "execution_count": 1,
   "id": "3d99c4a9",
   "metadata": {},
   "outputs": [],
   "source": [
    "import pymongo\n",
    "from pymongo import MongoClient"
   ]
  },
  {
   "cell_type": "code",
   "execution_count": 2,
   "id": "96bd086f",
   "metadata": {},
   "outputs": [],
   "source": [
    "client = MongoClient('localhost', 27017)"
   ]
  },
  {
   "cell_type": "code",
   "execution_count": 3,
   "id": "d3336421",
   "metadata": {},
   "outputs": [],
   "source": [
    "db = client['test']"
   ]
  },
  {
   "cell_type": "code",
   "execution_count": 4,
   "id": "2d124ca7",
   "metadata": {},
   "outputs": [
    {
     "data": {
      "text/plain": [
       "Database(MongoClient(host=['localhost:27017'], document_class=dict, tz_aware=False, connect=True), 'test')"
      ]
     },
     "execution_count": 4,
     "metadata": {},
     "output_type": "execute_result"
    }
   ],
   "source": [
    "db"
   ]
  },
  {
   "cell_type": "code",
   "execution_count": 5,
   "id": "a8b884a2",
   "metadata": {},
   "outputs": [
    {
     "data": {
      "text/plain": [
       "Collection(Database(MongoClient(host=['localhost:27017'], document_class=dict, tz_aware=False, connect=True), 'test'), 'new')"
      ]
     },
     "execution_count": 5,
     "metadata": {},
     "output_type": "execute_result"
    }
   ],
   "source": [
    "db.create_collection('new')"
   ]
  },
  {
   "cell_type": "code",
   "execution_count": 6,
   "id": "ddf558ad",
   "metadata": {},
   "outputs": [
    {
     "data": {
      "text/plain": [
       "('localhost', 27017)"
      ]
     },
     "execution_count": 6,
     "metadata": {},
     "output_type": "execute_result"
    }
   ],
   "source": [
    "client.address"
   ]
  },
  {
   "cell_type": "code",
   "execution_count": 8,
   "id": "189a071f",
   "metadata": {},
   "outputs": [
    {
     "ename": "ConfigurationError",
     "evalue": "No default database defined",
     "output_type": "error",
     "traceback": [
      "\u001b[0;31m---------------------------------------------------------------------------\u001b[0m",
      "\u001b[0;31mConfigurationError\u001b[0m                        Traceback (most recent call last)",
      "Input \u001b[0;32mIn [8]\u001b[0m, in \u001b[0;36m<module>\u001b[0;34m\u001b[0m\n\u001b[0;32m----> 1\u001b[0m \u001b[43mclient\u001b[49m\u001b[38;5;241;43m.\u001b[39;49m\u001b[43mget_database\u001b[49m\u001b[43m(\u001b[49m\u001b[43m)\u001b[49m\n",
      "File \u001b[0;32m~/miniconda3/lib/python3.8/site-packages/pymongo/mongo_client.py:1954\u001b[0m, in \u001b[0;36mMongoClient.get_database\u001b[0;34m(self, name, codec_options, read_preference, write_concern, read_concern)\u001b[0m\n\u001b[1;32m   1952\u001b[0m \u001b[38;5;28;01mif\u001b[39;00m name \u001b[38;5;129;01mis\u001b[39;00m \u001b[38;5;28;01mNone\u001b[39;00m:\n\u001b[1;32m   1953\u001b[0m     \u001b[38;5;28;01mif\u001b[39;00m \u001b[38;5;28mself\u001b[39m\u001b[38;5;241m.\u001b[39m__default_database_name \u001b[38;5;129;01mis\u001b[39;00m \u001b[38;5;28;01mNone\u001b[39;00m:\n\u001b[0;32m-> 1954\u001b[0m         \u001b[38;5;28;01mraise\u001b[39;00m ConfigurationError(\u001b[38;5;124m\"\u001b[39m\u001b[38;5;124mNo default database defined\u001b[39m\u001b[38;5;124m\"\u001b[39m)\n\u001b[1;32m   1955\u001b[0m     name \u001b[38;5;241m=\u001b[39m \u001b[38;5;28mself\u001b[39m\u001b[38;5;241m.\u001b[39m__default_database_name\n\u001b[1;32m   1957\u001b[0m \u001b[38;5;28;01mreturn\u001b[39;00m database\u001b[38;5;241m.\u001b[39mDatabase(\n\u001b[1;32m   1958\u001b[0m     \u001b[38;5;28mself\u001b[39m, name, codec_options, read_preference, write_concern, read_concern\n\u001b[1;32m   1959\u001b[0m )\n",
      "\u001b[0;31mConfigurationError\u001b[0m: No default database defined"
     ]
    }
   ],
   "source": [
    "client.get_database()"
   ]
  },
  {
   "cell_type": "code",
   "execution_count": 9,
   "id": "1004a6c3",
   "metadata": {},
   "outputs": [
    {
     "data": {
      "text/plain": [
       "27017"
      ]
     },
     "execution_count": 9,
     "metadata": {},
     "output_type": "execute_result"
    }
   ],
   "source": [
    "client.PORT"
   ]
  },
  {
   "cell_type": "code",
   "execution_count": 10,
   "id": "67929e47",
   "metadata": {},
   "outputs": [
    {
     "data": {
      "text/plain": [
       "<pymongo.client_options.ClientOptions at 0x1096b8cd0>"
      ]
     },
     "execution_count": 10,
     "metadata": {},
     "output_type": "execute_result"
    }
   ],
   "source": [
    "client.options."
   ]
  },
  {
   "cell_type": "code",
   "execution_count": null,
   "id": "371e9bb1",
   "metadata": {},
   "outputs": [],
   "source": []
  }
 ],
 "metadata": {
  "kernelspec": {
   "display_name": "Python 3 (ipykernel)",
   "language": "python",
   "name": "python3"
  },
  "language_info": {
   "codemirror_mode": {
    "name": "ipython",
    "version": 3
   },
   "file_extension": ".py",
   "mimetype": "text/x-python",
   "name": "python",
   "nbconvert_exporter": "python",
   "pygments_lexer": "ipython3",
   "version": "3.8.11"
  }
 },
 "nbformat": 4,
 "nbformat_minor": 5
}
